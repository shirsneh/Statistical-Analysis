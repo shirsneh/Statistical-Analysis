{
  "nbformat": 4,
  "nbformat_minor": 0,
  "metadata": {
    "colab": {
      "provenance": [],
      "include_colab_link": true
    },
    "kernelspec": {
      "name": "python3",
      "display_name": "Python 3"
    },
    "language_info": {
      "name": "python"
    }
  },
  "cells": [
    {
      "cell_type": "markdown",
      "metadata": {
        "id": "view-in-github",
        "colab_type": "text"
      },
      "source": [
        "<a href=\"https://colab.research.google.com/github/shirsneh/Statistical-Analysis/blob/main/Descriptive%20statistics.ipynb\" target=\"_parent\"><img src=\"https://colab.research.google.com/assets/colab-badge.svg\" alt=\"Open In Colab\"/></a>"
      ]
    },
    {
      "cell_type": "markdown",
      "source": [
        "# **Setting the environment**"
      ],
      "metadata": {
        "id": "Y85niqwChw76"
      }
    },
    {
      "cell_type": "code",
      "execution_count": null,
      "metadata": {
        "id": "EnScIJm3f-Hp"
      },
      "outputs": [],
      "source": [
        "import numpy as np\n",
        "import pandas as pd"
      ]
    },
    {
      "cell_type": "markdown",
      "source": [
        "# **Question 1**"
      ],
      "metadata": {
        "id": "KP_uBX3RiYti"
      }
    },
    {
      "cell_type": "code",
      "source": [
        "# read from the file\n",
        "file_path = '/content/ex1q1.csv'\n",
        "expense = pd.read_csv(file_path)\n",
        "print(expense.head())\n",
        "print(expense.describe())"
      ],
      "metadata": {
        "colab": {
          "base_uri": "https://localhost:8080/"
        },
        "id": "1SFr2Z-vicGC",
        "outputId": "5c39982e-00a0-4670-8e51-97b0a6051e9e"
      },
      "execution_count": null,
      "outputs": [
        {
          "output_type": "stream",
          "name": "stdout",
          "text": [
            "   Gender  Expense\n",
            "0       0      675\n",
            "1       0      589\n",
            "2       0      667\n",
            "3       0      876\n",
            "4       0      526\n",
            "           Gender      Expense\n",
            "count  600.000000   600.000000\n",
            "mean     0.500000   799.263333\n",
            "std      0.500417   191.264906\n",
            "min      0.000000   203.000000\n",
            "25%      0.000000   663.750000\n",
            "50%      0.500000   804.500000\n",
            "75%      1.000000   918.250000\n",
            "max      1.000000  1404.000000\n"
          ]
        }
      ]
    },
    {
      "cell_type": "code",
      "source": [
        "print(\"Gender info:\")\n",
        "print(\"Women: 0, Men: 1\")\n",
        "expense[\"Gender\"].value_counts()"
      ],
      "metadata": {
        "colab": {
          "base_uri": "https://localhost:8080/",
          "height": 213
        },
        "id": "NsW_on0JkKuv",
        "outputId": "12a4297d-aaad-46a5-e389-33e49c9437ef"
      },
      "execution_count": null,
      "outputs": [
        {
          "output_type": "stream",
          "name": "stdout",
          "text": [
            "Gender info:\n",
            "Women: 0, Men: 1\n"
          ]
        },
        {
          "output_type": "execute_result",
          "data": {
            "text/plain": [
              "Gender\n",
              "0    300\n",
              "1    300\n",
              "Name: count, dtype: int64"
            ],
            "text/html": [
              "<div>\n",
              "<style scoped>\n",
              "    .dataframe tbody tr th:only-of-type {\n",
              "        vertical-align: middle;\n",
              "    }\n",
              "\n",
              "    .dataframe tbody tr th {\n",
              "        vertical-align: top;\n",
              "    }\n",
              "\n",
              "    .dataframe thead th {\n",
              "        text-align: right;\n",
              "    }\n",
              "</style>\n",
              "<table border=\"1\" class=\"dataframe\">\n",
              "  <thead>\n",
              "    <tr style=\"text-align: right;\">\n",
              "      <th></th>\n",
              "      <th>count</th>\n",
              "    </tr>\n",
              "    <tr>\n",
              "      <th>Gender</th>\n",
              "      <th></th>\n",
              "    </tr>\n",
              "  </thead>\n",
              "  <tbody>\n",
              "    <tr>\n",
              "      <th>0</th>\n",
              "      <td>300</td>\n",
              "    </tr>\n",
              "    <tr>\n",
              "      <th>1</th>\n",
              "      <td>300</td>\n",
              "    </tr>\n",
              "  </tbody>\n",
              "</table>\n",
              "</div><br><label><b>dtype:</b> int64</label>"
            ]
          },
          "metadata": {},
          "execution_count": 3
        }
      ]
    },
    {
      "cell_type": "code",
      "source": [
        "print(\"Expense = annul expense for T-shirts in Shekels\")\n",
        "expense[\"Expense\"].hist()\n",
        "expense.plot.scatter(\"Gender\", \"Expense\")"
      ],
      "metadata": {
        "colab": {
          "base_uri": "https://localhost:8080/",
          "height": 897
        },
        "id": "NNPVMRwritj1",
        "outputId": "4fc13c84-f6ff-490c-e7b7-a312eade9c35"
      },
      "execution_count": null,
      "outputs": [
        {
          "output_type": "stream",
          "name": "stdout",
          "text": [
            "Expense = annul expense for T-shirts in Shekels\n"
          ]
        },
        {
          "output_type": "execute_result",
          "data": {
            "text/plain": [
              "<Axes: xlabel='Gender', ylabel='Expense'>"
            ]
          },
          "metadata": {},
          "execution_count": 4
        },
        {
          "output_type": "display_data",
          "data": {
            "text/plain": [
              "<Figure size 640x480 with 1 Axes>"
            ],
            "image/png": "[encoded data removed]"
          },
          "metadata": {}
        },
        {
          "output_type": "display_data",
          "data": {
            "text/plain": [
              "<Figure size 640x480 with 1 Axes>"
            ],
            "image/png": "[encoded data removed]"
          },
          "metadata": {}
        }
      ]
    },
    {
      "cell_type": "markdown",
      "source": [
        "**Q1.1**"
      ],
      "metadata": {
        "id": "r_OG8uq-kcVR"
      }
    },
    {
      "cell_type": "code",
      "source": [
        "#Filter data\n",
        "man = expense[expense[\"Gender\"] == 1]\n",
        "print(man.head())\n",
        "\n",
        "#Calculate and print the mean and std\n",
        "mean = man['Expense'].mean()\n",
        "std = man['Expense'].std()\n",
        "\n",
        "print(f\"The mean of expense for men: {mean:.3f}\")\n",
        "print(f\"The standard deviation (std) of expense for men: {std: .3f}\")"
      ],
      "metadata": {
        "colab": {
          "base_uri": "https://localhost:8080/"
        },
        "id": "5Lh_ox16kXte",
        "outputId": "d8d26377-35ab-42cd-8053-03e9ef44dc8b"
      },
      "execution_count": null,
      "outputs": [
        {
          "output_type": "stream",
          "name": "stdout",
          "text": [
            "     Gender  Expense\n",
            "300       1     1120\n",
            "301       1      946\n",
            "302       1     1268\n",
            "303       1      730\n",
            "304       1     1050\n",
            "The mean of expense for men: 838.017\n",
            "The standard deviation (std) of expense for men:  194.652\n"
          ]
        }
      ]
    },
    {
      "cell_type": "markdown",
      "source": [
        "Given info: the mean expense for men is 800 Shekels."
      ],
      "metadata": {
        "id": "RwlDZKR1ohn6"
      }
    },
    {
      "cell_type": "code",
      "source": [
        "from scipy.stats import ttest_1samp\n",
        "\n",
        "t_stat, p_value = ttest_1samp(man['Expense'].values, 800)\n",
        "print(f\"T statistic: {t_stat: .3f}\")\n",
        "print(f\"P value: {p_value: .3f}\")"
      ],
      "metadata": {
        "colab": {
          "base_uri": "https://localhost:8080/"
        },
        "id": "hkzjkeAuq_e9",
        "outputId": "64efda7d-794d-4005-fbf5-95e09833fe1c"
      },
      "execution_count": null,
      "outputs": [
        {
          "output_type": "stream",
          "name": "stdout",
          "text": [
            "T statistic:  3.383\n",
            "P value:  0.001\n"
          ]
        }
      ]
    },
    {
      "cell_type": "markdown",
      "source": [
        "**Q1.2**"
      ],
      "metadata": {
        "id": "YQrWKf7vs0in"
      }
    },
    {
      "cell_type": "code",
      "source": [
        "#Filter data\n",
        "woman = expense[expense[\"Gender\"] == 0]\n",
        "print(woman.head())\n",
        "\n",
        "#Calculate and print the mean and std\n",
        "mean = woman['Expense'].mean()\n",
        "std = woman['Expense'].std()\n",
        "\n",
        "print(f\"The mean of expense for women: {mean:.3f}\")\n",
        "print(f\"The standard deviation (std) of expense for women: {std: .3f}\")"
      ],
      "metadata": {
        "colab": {
          "base_uri": "https://localhost:8080/"
        },
        "id": "jtongpoZs8Lh",
        "outputId": "21957eb4-c39f-42ed-a6ad-ce103fc983cc"
      },
      "execution_count": null,
      "outputs": [
        {
          "output_type": "stream",
          "name": "stdout",
          "text": [
            "   Gender  Expense\n",
            "0       0      675\n",
            "1       0      589\n",
            "2       0      667\n",
            "3       0      876\n",
            "4       0      526\n",
            "The mean of expense for women: 760.510\n",
            "The standard deviation (std) of expense for women:  179.955\n"
          ]
        }
      ]
    },
    {
      "cell_type": "code",
      "source": [
        "from scipy.stats import ttest_ind\n",
        "\n",
        "t_stat, p_value = ttest_ind(woman['Expense'], man['Expense'])\n",
        "print(\"T statistic:\", t_stat)\n",
        "print(\"P value:\", p_value)\n",
        "\n",
        "# Adjust for one-sided test\n",
        "p_value_one_sided = p_value / 2 if t_stat > 0 else 1 - (p_value / 2)\n",
        "print(\"P-value one sided:\", p_value_one_sided)"
      ],
      "metadata": {
        "colab": {
          "base_uri": "https://localhost:8080/"
        },
        "id": "Lst84fbKthUc",
        "outputId": "fe8630f1-7498-4267-9022-9bc548157099"
      },
      "execution_count": null,
      "outputs": [
        {
          "output_type": "stream",
          "name": "stdout",
          "text": [
            "T statistic: -5.064130070939504\n",
            "P value: 5.472077196369207e-07\n",
            "P-value one sided: 0.9999997263961402\n"
          ]
        }
      ]
    },
    {
      "cell_type": "markdown",
      "source": [
        "# **Question 2**"
      ],
      "metadata": {
        "id": "nTGYr7PSvUxo"
      }
    },
    {
      "cell_type": "code",
      "source": [
        "# read from the file\n",
        "file_path = '/content/ex1q2.csv'\n",
        "coupon = pd.read_csv(file_path)\n",
        "print(coupon.head())\n",
        "print(coupon.describe())"
      ],
      "metadata": {
        "colab": {
          "base_uri": "https://localhost:8080/"
        },
        "id": "-YtlPhNzvY32",
        "outputId": "a81683b3-b4bb-4078-c653-6ab51654ca37"
      },
      "execution_count": null,
      "outputs": [
        {
          "output_type": "stream",
          "name": "stdout",
          "text": [
            "   coupon  sales\n",
            "0       1    111\n",
            "1       0    106\n",
            "2       0    108\n",
            "3       0    111\n",
            "4       0    111\n",
            "          coupon       sales\n",
            "count  50.000000   50.000000\n",
            "mean    0.500000  112.160000\n",
            "std     0.505076    3.334177\n",
            "min     0.000000  105.000000\n",
            "25%     0.000000  110.000000\n",
            "50%     0.500000  112.500000\n",
            "75%     1.000000  114.750000\n",
            "max     1.000000  118.000000\n"
          ]
        }
      ]
    },
    {
      "cell_type": "code",
      "source": [
        "print(\"Coupon info:\")\n",
        "print(\"no coupon in shop: 0, exist coupon in shop: 1\")\n",
        "coupon[\"coupon\"].value_counts()"
      ],
      "metadata": {
        "colab": {
          "base_uri": "https://localhost:8080/",
          "height": 213
        },
        "id": "Z8trxT1nw1iG",
        "outputId": "7b53a41c-1e61-461e-d8fa-acd968a6794a"
      },
      "execution_count": null,
      "outputs": [
        {
          "output_type": "stream",
          "name": "stdout",
          "text": [
            "Coupon info:\n",
            "no coupon in shop: 0, exist coupon in shop: 1\n"
          ]
        },
        {
          "output_type": "execute_result",
          "data": {
            "text/plain": [
              "coupon\n",
              "1    25\n",
              "0    25\n",
              "Name: count, dtype: int64"
            ],
            "text/html": [
              "<div>\n",
              "<style scoped>\n",
              "    .dataframe tbody tr th:only-of-type {\n",
              "        vertical-align: middle;\n",
              "    }\n",
              "\n",
              "    .dataframe tbody tr th {\n",
              "        vertical-align: top;\n",
              "    }\n",
              "\n",
              "    .dataframe thead th {\n",
              "        text-align: right;\n",
              "    }\n",
              "</style>\n",
              "<table border=\"1\" class=\"dataframe\">\n",
              "  <thead>\n",
              "    <tr style=\"text-align: right;\">\n",
              "      <th></th>\n",
              "      <th>count</th>\n",
              "    </tr>\n",
              "    <tr>\n",
              "      <th>coupon</th>\n",
              "      <th></th>\n",
              "    </tr>\n",
              "  </thead>\n",
              "  <tbody>\n",
              "    <tr>\n",
              "      <th>1</th>\n",
              "      <td>25</td>\n",
              "    </tr>\n",
              "    <tr>\n",
              "      <th>0</th>\n",
              "      <td>25</td>\n",
              "    </tr>\n",
              "  </tbody>\n",
              "</table>\n",
              "</div><br><label><b>dtype:</b> int64</label>"
            ]
          },
          "metadata": {},
          "execution_count": 10
        }
      ]
    },
    {
      "cell_type": "code",
      "source": [
        "#Filter data\n",
        "exist_coupon = coupon[coupon[\"coupon\"] == 1]\n",
        "no_coupon = coupon[coupon[\"coupon\"] == 0]\n",
        "print(exist_coupon.head())\n",
        "print(no_coupon.head())\n",
        "\n",
        "#Calculate and print the mean and std\n",
        "exist_coupon_mean = exist_coupon['sales'].mean()\n",
        "exist_coupon_std = exist_coupon['sales'].std()\n",
        "\n",
        "no_coupon_mean = no_coupon['sales'].mean()\n",
        "no_coupon_std = no_coupon['sales'].std()\n",
        "\n",
        "print(f\"The mean of sales with coupon: {exist_coupon_mean: .3f}\")\n",
        "print(f\"The Standard Deviation (std) of sales with coupon: {exist_coupon_std: .3f}\")\n",
        "print(f\"The mean of sales without coupon: {no_coupon_mean: .3f}\")\n",
        "print(f\"The Standard Deviation (std) of sales without coupon: {no_coupon_std: .3f}\")"
      ],
      "metadata": {
        "colab": {
          "base_uri": "https://localhost:8080/"
        },
        "id": "PYSprPeRxMX6",
        "outputId": "accd0750-2f0c-4d68-9e47-b269a2f3bf84"
      },
      "execution_count": null,
      "outputs": [
        {
          "output_type": "stream",
          "name": "stdout",
          "text": [
            "    coupon  sales\n",
            "0        1    111\n",
            "8        1    113\n",
            "9        1    112\n",
            "11       1    114\n",
            "13       1    116\n",
            "   coupon  sales\n",
            "1       0    106\n",
            "2       0    108\n",
            "3       0    111\n",
            "4       0    111\n",
            "5       0    110\n",
            "The mean of sales with coupon:  113.200\n",
            "The Standard Deviation (std) of sales with coupon:  3.391\n",
            "The mean of sales without coupon:  111.120\n",
            "The Standard Deviation (std) of sales without coupon:  2.991\n"
          ]
        }
      ]
    },
    {
      "cell_type": "code",
      "source": [
        "from scipy.stats import ttest_ind\n",
        "\n",
        "t_stat, p_value = ttest_ind(exist_coupon['sales'], no_coupon['sales'])\n",
        "print(f\"T statistic: {t_stat: .3f}\")\n",
        "print(f\"P-value: {p_value: .3f}\")\n",
        "# Adjust for one-sided test\n",
        "p_value_one_sided = p_value / 2 if t_stat > 0 else 1 - (p_value / 2)\n",
        "print(f\"P-value one sided: {p_value_one_sided: .3f}\")"
      ],
      "metadata": {
        "colab": {
          "base_uri": "https://localhost:8080/"
        },
        "id": "TaEiYAVYydPk",
        "outputId": "23f7024b-ff31-4460-a0b8-23fbe8f12142"
      },
      "execution_count": null,
      "outputs": [
        {
          "output_type": "stream",
          "name": "stdout",
          "text": [
            "T statistic:  2.300\n",
            "P-value:  0.026\n",
            "P-value one sided:  0.013\n"
          ]
        }
      ]
    }
  ]
}
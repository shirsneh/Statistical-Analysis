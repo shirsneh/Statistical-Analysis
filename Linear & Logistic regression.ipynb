{
  "nbformat": 4,
  "nbformat_minor": 0,
  "metadata": {
    "colab": {
      "provenance": [],
      "collapsed_sections": [
        "_tN24qL0F7Fg"
      ],
      "authorship_tag": "ABX9TyNZRk5rMo+3Edf47IBu/gwj",
      "include_colab_link": true
    },
    "kernelspec": {
      "name": "python3",
      "display_name": "Python 3"
    },
    "language_info": {
      "name": "python"
    }
  },
  "cells": [
    {
      "cell_type": "markdown",
      "metadata": {
        "id": "view-in-github",
        "colab_type": "text"
      },
      "source": [
        "<a href=\"https://colab.research.google.com/github/shirsneh/Statistical-Analysis/blob/main/Linear%20%26%20Logistic%20regression.ipynb\" target=\"_parent\"><img src=\"https://colab.research.google.com/assets/colab-badge.svg\" alt=\"Open In Colab\"/></a>"
      ]
    },
    {
      "cell_type": "markdown",
      "source": [
        "# **Linear & Logistic regression**"
      ],
      "metadata": {
        "id": "ox5fc9bmE1Bd"
      }
    },
    {
      "cell_type": "markdown",
      "source": [
        "## **Setting the environment**"
      ],
      "metadata": {
        "id": "_tN24qL0F7Fg"
      }
    },
    {
      "cell_type": "code",
      "execution_count": 1,
      "metadata": {
        "colab": {
          "base_uri": "https://localhost:8080/"
        },
        "id": "sIZxcOBFEoPL",
        "outputId": "db6794d9-584f-47b5-b526-04bea726f046"
      },
      "outputs": [
        {
          "output_type": "stream",
          "name": "stdout",
          "text": [
            "Mounted at /content/drive\n"
          ]
        }
      ],
      "source": [
        "import numpy as np\n",
        "import pandas as pd\n",
        "import statsmodels.api as sm\n",
        "import matplotlib.pyplot as plt\n",
        "import seaborn as sns\n",
        "import statsmodels.formula.api as smf\n",
        "\n",
        "from google.colab import drive\n",
        "drive.mount('/content/drive')"
      ]
    },
    {
      "cell_type": "markdown",
      "source": [
        "## **Q1**"
      ],
      "metadata": {
        "id": "Ss7yP831GJEA"
      }
    },
    {
      "cell_type": "code",
      "source": [
        "file_path = '/content/drive/MyDrive/HW2/students_grades.csv'\n",
        "# Read from the file\n",
        "students_grades = pd.read_csv(file_path)\n",
        "print(students_grades.head())\n",
        "print(students_grades.describe())\n",
        "print(students_grades.info())\n",
        "\n"
      ],
      "metadata": {
        "colab": {
          "base_uri": "https://localhost:8080/"
        },
        "id": "6aaffl_8GRLg",
        "outputId": "815ac08f-117e-4fe7-bdb4-d98a1b9cf92d"
      },
      "execution_count": 2,
      "outputs": [
        {
          "output_type": "stream",
          "name": "stdout",
          "text": [
            "  school sex  age address famsize Pstatus  Medu  Fedu     Mjob      Fjob  ...  \\\n",
            "0     GP   F   18       U     GT3       A     4     4  at_home   teacher  ...   \n",
            "1     GP   F   17       U     GT3       T     1     1  at_home     other  ...   \n",
            "2     GP   F   15       U     LE3       T     1     1  at_home     other  ...   \n",
            "3     GP   F   15       U     GT3       T     4     2   health  services  ...   \n",
            "4     GP   F   16       U     GT3       T     3     3    other     other  ...   \n",
            "\n",
            "  famrel freetime  goout  Dalc  Walc health absences  G1  G2  G3  \n",
            "0      4        3      4     1     1      3        6   5   6   6  \n",
            "1      5        3      3     1     1      3        4   5   5   6  \n",
            "2      4        3      2     2     3      3       10   7   8  10  \n",
            "3      3        2      2     1     1      5        2  15  14  15  \n",
            "4      4        3      2     1     2      5        4   6  10  10  \n",
            "\n",
            "[5 rows x 33 columns]\n",
            "              age        Medu        Fedu  traveltime   studytime    failures  \\\n",
            "count  395.000000  395.000000  395.000000  395.000000  395.000000  395.000000   \n",
            "mean    16.696203    2.749367    2.521519    1.448101    2.035443    0.334177   \n",
            "std      1.276043    1.094735    1.088201    0.697505    0.839240    0.743651   \n",
            "min     15.000000    0.000000    0.000000    1.000000    1.000000    0.000000   \n",
            "25%     16.000000    2.000000    2.000000    1.000000    1.000000    0.000000   \n",
            "50%     17.000000    3.000000    2.000000    1.000000    2.000000    0.000000   \n",
            "75%     18.000000    4.000000    3.000000    2.000000    2.000000    0.000000   \n",
            "max     22.000000    4.000000    4.000000    4.000000    4.000000    3.000000   \n",
            "\n",
            "           famrel    freetime       goout        Dalc        Walc      health  \\\n",
            "count  395.000000  395.000000  395.000000  395.000000  395.000000  395.000000   \n",
            "mean     3.944304    3.235443    3.108861    1.481013    2.291139    3.554430   \n",
            "std      0.896659    0.998862    1.113278    0.890741    1.287897    1.390303   \n",
            "min      1.000000    1.000000    1.000000    1.000000    1.000000    1.000000   \n",
            "25%      4.000000    3.000000    2.000000    1.000000    1.000000    3.000000   \n",
            "50%      4.000000    3.000000    3.000000    1.000000    2.000000    4.000000   \n",
            "75%      5.000000    4.000000    4.000000    2.000000    3.000000    5.000000   \n",
            "max      5.000000    5.000000    5.000000    5.000000    5.000000    5.000000   \n",
            "\n",
            "         absences          G1          G2          G3  \n",
            "count  395.000000  395.000000  395.000000  395.000000  \n",
            "mean     5.708861   10.908861   10.713924   10.415190  \n",
            "std      8.003096    3.319195    3.761505    4.581443  \n",
            "min      0.000000    3.000000    0.000000    0.000000  \n",
            "25%      0.000000    8.000000    9.000000    8.000000  \n",
            "50%      4.000000   11.000000   11.000000   11.000000  \n",
            "75%      8.000000   13.000000   13.000000   14.000000  \n",
            "max     75.000000   19.000000   19.000000   20.000000  \n",
            "<class 'pandas.core.frame.DataFrame'>\n",
            "RangeIndex: 395 entries, 0 to 394\n",
            "Data columns (total 33 columns):\n",
            " #   Column      Non-Null Count  Dtype \n",
            "---  ------      --------------  ----- \n",
            " 0   school      395 non-null    object\n",
            " 1   sex         395 non-null    object\n",
            " 2   age         395 non-null    int64 \n",
            " 3   address     395 non-null    object\n",
            " 4   famsize     395 non-null    object\n",
            " 5   Pstatus     395 non-null    object\n",
            " 6   Medu        395 non-null    int64 \n",
            " 7   Fedu        395 non-null    int64 \n",
            " 8   Mjob        395 non-null    object\n",
            " 9   Fjob        395 non-null    object\n",
            " 10  reason      395 non-null    object\n",
            " 11  guardian    395 non-null    object\n",
            " 12  traveltime  395 non-null    int64 \n",
            " 13  studytime   395 non-null    int64 \n",
            " 14  failures    395 non-null    int64 \n",
            " 15  schoolsup   395 non-null    object\n",
            " 16  famsup      395 non-null    object\n",
            " 17  paid        395 non-null    object\n",
            " 18  activities  395 non-null    object\n",
            " 19  nursery     395 non-null    object\n",
            " 20  higher      395 non-null    object\n",
            " 21  internet    395 non-null    object\n",
            " 22  romantic    395 non-null    object\n",
            " 23  famrel      395 non-null    int64 \n",
            " 24  freetime    395 non-null    int64 \n",
            " 25  goout       395 non-null    int64 \n",
            " 26  Dalc        395 non-null    int64 \n",
            " 27  Walc        395 non-null    int64 \n",
            " 28  health      395 non-null    int64 \n",
            " 29  absences    395 non-null    int64 \n",
            " 30  G1          395 non-null    int64 \n",
            " 31  G2          395 non-null    int64 \n",
            " 32  G3          395 non-null    int64 \n",
            "dtypes: int64(16), object(17)\n",
            "memory usage: 102.0+ KB\n",
            "None\n"
          ]
        }
      ]
    },
    {
      "cell_type": "markdown",
      "source": [
        "### **Q1.1**"
      ],
      "metadata": {
        "id": "uHldtKbhJiey"
      }
    },
    {
      "cell_type": "markdown",
      "source": [
        "G3 - student success course ending\n",
        "\n",
        "Medu - Mother education"
      ],
      "metadata": {
        "id": "e4wNYTO5MY--"
      }
    },
    {
      "cell_type": "code",
      "source": [
        "# Scatter plot and Check linearity\n",
        "plt.scatter(students_grades['Medu'], students_grades['G3'])\n",
        "plt.title(\"G3 = a + b * Medu + e\")\n",
        "plt.show()"
      ],
      "metadata": {
        "colab": {
          "base_uri": "https://localhost:8080/",
          "height": 452
        },
        "id": "8PNbRCoNKm7H",
        "outputId": "9956a1f6-82e0-46c7-af53-f9699b9ae5f8"
      },
      "execution_count": 3,
      "outputs": [
        {
          "output_type": "display_data",
          "data": {
            "text/plain": [
              "<Figure size 640x480 with 1 Axes>"
            ],
            "image/png": "[encoded data removed]"
          },
          "metadata": {}
        }
      ]
    },
    {
      "cell_type": "code",
      "source": [
        "merged = students_grades\n",
        "for col in ['Medu']:\n",
        "  dummies = pd.get_dummies(students_grades[col])\n",
        "  # Concatenate the dummies to original dataframe\n",
        "  merged = pd.concat([merged, dummies], axis='columns')\n",
        "  merged = merged.drop(['Medu',4], axis='columns')\n",
        "print(merged)"
      ],
      "metadata": {
        "colab": {
          "base_uri": "https://localhost:8080/"
        },
        "id": "T_M8LpdOLDZP",
        "outputId": "6a3a5003-c11e-4b6e-ea7b-9be81a2407f4"
      },
      "execution_count": 4,
      "outputs": [
        {
          "output_type": "stream",
          "name": "stdout",
          "text": [
            "    school sex  age address famsize Pstatus  Fedu      Mjob      Fjob  reason  \\\n",
            "0       GP   F   18       U     GT3       A     4   at_home   teacher  course   \n",
            "1       GP   F   17       U     GT3       T     1   at_home     other  course   \n",
            "2       GP   F   15       U     LE3       T     1   at_home     other   other   \n",
            "3       GP   F   15       U     GT3       T     2    health  services    home   \n",
            "4       GP   F   16       U     GT3       T     3     other     other    home   \n",
            "..     ...  ..  ...     ...     ...     ...   ...       ...       ...     ...   \n",
            "390     MS   M   20       U     LE3       A     2  services  services  course   \n",
            "391     MS   M   17       U     LE3       T     1  services  services  course   \n",
            "392     MS   M   21       R     GT3       T     1     other     other  course   \n",
            "393     MS   M   18       R     LE3       T     2  services     other  course   \n",
            "394     MS   M   19       U     LE3       T     1     other   at_home  course   \n",
            "\n",
            "     ... Walc  health  absences  G1  G2  G3      0      1      2      3  \n",
            "0    ...    1       3         6   5   6   6  False  False  False  False  \n",
            "1    ...    1       3         4   5   5   6  False   True  False  False  \n",
            "2    ...    3       3        10   7   8  10  False   True  False  False  \n",
            "3    ...    1       5         2  15  14  15  False  False  False  False  \n",
            "4    ...    2       5         4   6  10  10  False  False  False   True  \n",
            "..   ...  ...     ...       ...  ..  ..  ..    ...    ...    ...    ...  \n",
            "390  ...    5       4        11   9   9   9  False  False   True  False  \n",
            "391  ...    4       2         3  14  16  16  False  False  False   True  \n",
            "392  ...    3       3         3  10   8   7  False   True  False  False  \n",
            "393  ...    4       5         0  11  12  10  False  False  False   True  \n",
            "394  ...    3       5         5   8   9   9  False   True  False  False  \n",
            "\n",
            "[395 rows x 36 columns]\n"
          ]
        }
      ]
    },
    {
      "cell_type": "code",
      "source": [
        "plt.scatter(merged[0], merged['G3'])\n",
        "plt.title(\"G3 = a + b * Medu(0) + e\")\n",
        "plt.show()"
      ],
      "metadata": {
        "colab": {
          "base_uri": "https://localhost:8080/",
          "height": 452
        },
        "id": "7EoyqZfELpRI",
        "outputId": "5f6d5e11-b78a-4e23-b938-089582e83476"
      },
      "execution_count": 5,
      "outputs": [
        {
          "output_type": "display_data",
          "data": {
            "text/plain": [
              "<Figure size 640x480 with 1 Axes>"
            ],
            "image/png": "[encoded data removed]"
          },
          "metadata": {}
        }
      ]
    },
    {
      "cell_type": "code",
      "source": [
        "reg = sm.formula.ols(formula='G3 ~ Medu', data=students_grades).fit()\n",
        "print(reg.summary())\n",
        "print(reg.rsquared_adj)\n",
        "print(reg.f_pvalue)"
      ],
      "metadata": {
        "colab": {
          "base_uri": "https://localhost:8080/"
        },
        "id": "g2cJ_FMKMG36",
        "outputId": "f55c34c7-0d6b-47b3-ca15-627b87b1e59c"
      },
      "execution_count": 6,
      "outputs": [
        {
          "output_type": "stream",
          "name": "stdout",
          "text": [
            "                            OLS Regression Results                            \n",
            "==============================================================================\n",
            "Dep. Variable:                     G3   R-squared:                       0.047\n",
            "Model:                            OLS   Adj. R-squared:                  0.045\n",
            "Method:                 Least Squares   F-statistic:                     19.45\n",
            "Date:                Wed, 19 Mar 2025   Prob (F-statistic):           1.34e-05\n",
            "Time:                        21:47:03   Log-Likelihood:                -1151.6\n",
            "No. Observations:                 395   AIC:                             2307.\n",
            "Df Residuals:                     393   BIC:                             2315.\n",
            "Df Model:                           1                                         \n",
            "Covariance Type:            nonrobust                                         \n",
            "==============================================================================\n",
            "                 coef    std err          t      P>|t|      [0.025      0.975]\n",
            "------------------------------------------------------------------------------\n",
            "Intercept      7.9167      0.610     12.984      0.000       6.718       9.115\n",
            "Medu           0.9088      0.206      4.410      0.000       0.504       1.314\n",
            "==============================================================================\n",
            "Omnibus:                       34.075   Durbin-Watson:                   1.977\n",
            "Prob(Omnibus):                  0.000   Jarque-Bera (JB):               40.397\n",
            "Skew:                          -0.762   Prob(JB):                     1.69e-09\n",
            "Kurtosis:                       3.360   Cond. No.                         8.81\n",
            "==============================================================================\n",
            "\n",
            "Notes:\n",
            "[1] Standard Errors assume that the covariance matrix of the errors is correctly specified.\n",
            "0.04472848809473484\n",
            "1.3361073236909965e-05\n"
          ]
        }
      ]
    },
    {
      "cell_type": "markdown",
      "source": [
        "### **Q1.2**"
      ],
      "metadata": {
        "id": "24IsoTRlNgXa"
      }
    },
    {
      "cell_type": "markdown",
      "source": [
        "Fedu - Father education"
      ],
      "metadata": {
        "id": "QpjBY0KsNviG"
      }
    },
    {
      "cell_type": "code",
      "source": [
        "plt.scatter(students_grades['Fedu'], students_grades['G3'])\n",
        "plt.title(\"G3 = a + b * Fedu + e\")\n",
        "plt.show()"
      ],
      "metadata": {
        "colab": {
          "base_uri": "https://localhost:8080/",
          "height": 452
        },
        "id": "6_W-L5n6NKYn",
        "outputId": "ee87985c-f63a-451b-ff3a-e2ab4965f083"
      },
      "execution_count": 7,
      "outputs": [
        {
          "output_type": "display_data",
          "data": {
            "text/plain": [
              "<Figure size 640x480 with 1 Axes>"
            ],
            "image/png": "[encoded data removed]"
          },
          "metadata": {}
        }
      ]
    },
    {
      "cell_type": "code",
      "source": [
        "reg = sm.formula.ols(formula='G3 ~ Fedu', data=students_grades).fit()\n",
        "print(reg.summary())\n",
        "print(reg.rsquared_adj)\n",
        "print(reg.f_pvalue)"
      ],
      "metadata": {
        "colab": {
          "base_uri": "https://localhost:8080/"
        },
        "id": "FPfc-75LORS2",
        "outputId": "83bc1e5e-9993-4098-dd49-0181ca136bfa"
      },
      "execution_count": 8,
      "outputs": [
        {
          "output_type": "stream",
          "name": "stdout",
          "text": [
            "                            OLS Regression Results                            \n",
            "==============================================================================\n",
            "Dep. Variable:                     G3   R-squared:                       0.023\n",
            "Model:                            OLS   Adj. R-squared:                  0.021\n",
            "Method:                 Least Squares   F-statistic:                     9.352\n",
            "Date:                Wed, 19 Mar 2025   Prob (F-statistic):            0.00238\n",
            "Time:                        21:47:03   Log-Likelihood:                -1156.5\n",
            "No. Observations:                 395   AIC:                             2317.\n",
            "Df Residuals:                     393   BIC:                             2325.\n",
            "Df Model:                           1                                         \n",
            "Covariance Type:            nonrobust                                         \n",
            "==============================================================================\n",
            "                 coef    std err          t      P>|t|      [0.025      0.975]\n",
            "------------------------------------------------------------------------------\n",
            "Intercept      8.7967      0.576     15.264      0.000       7.664       9.930\n",
            "Fedu           0.6419      0.210      3.058      0.002       0.229       1.055\n",
            "==============================================================================\n",
            "Omnibus:                       33.816   Durbin-Watson:                   1.981\n",
            "Prob(Omnibus):                  0.000   Jarque-Bera (JB):               39.989\n",
            "Skew:                          -0.747   Prob(JB):                     2.07e-09\n",
            "Kurtosis:                       3.444   Cond. No.                         7.73\n",
            "==============================================================================\n",
            "\n",
            "Notes:\n",
            "[1] Standard Errors assume that the covariance matrix of the errors is correctly specified.\n",
            "0.020757731752423125\n",
            "0.002379972632340094\n"
          ]
        }
      ]
    },
    {
      "cell_type": "markdown",
      "source": [
        "### **Q1.3**"
      ],
      "metadata": {
        "id": "XchEBYIoJkbY"
      }
    },
    {
      "cell_type": "code",
      "source": [
        "reg = sm.formula.ols(formula='G3 ~ Medu + Fedu', data=students_grades).fit()\n",
        "print(reg.summary())"
      ],
      "metadata": {
        "colab": {
          "base_uri": "https://localhost:8080/"
        },
        "id": "sP6UtfvcPDvz",
        "outputId": "82619d41-8d61-4d2e-a67c-3c5942f5ad45"
      },
      "execution_count": 9,
      "outputs": [
        {
          "output_type": "stream",
          "name": "stdout",
          "text": [
            "                            OLS Regression Results                            \n",
            "==============================================================================\n",
            "Dep. Variable:                     G3   R-squared:                       0.048\n",
            "Model:                            OLS   Adj. R-squared:                  0.043\n",
            "Method:                 Least Squares   F-statistic:                     9.802\n",
            "Date:                Wed, 19 Mar 2025   Prob (F-statistic):           7.01e-05\n",
            "Time:                        21:47:03   Log-Likelihood:                -1151.5\n",
            "No. Observations:                 395   AIC:                             2309.\n",
            "Df Residuals:                     392   BIC:                             2321.\n",
            "Df Model:                           2                                         \n",
            "Covariance Type:            nonrobust                                         \n",
            "==============================================================================\n",
            "                 coef    std err          t      P>|t|      [0.025      0.975]\n",
            "------------------------------------------------------------------------------\n",
            "Intercept      7.8205      0.648     12.073      0.000       6.547       9.094\n",
            "Medu           0.8359      0.264      3.168      0.002       0.317       1.355\n",
            "Fedu           0.1176      0.265      0.443      0.658      -0.404       0.639\n",
            "==============================================================================\n",
            "Omnibus:                       34.382   Durbin-Watson:                   1.976\n",
            "Prob(Omnibus):                  0.000   Jarque-Bera (JB):               40.826\n",
            "Skew:                          -0.765   Prob(JB):                     1.36e-09\n",
            "Kurtosis:                       3.375   Cond. No.                         12.1\n",
            "==============================================================================\n",
            "\n",
            "Notes:\n",
            "[1] Standard Errors assume that the covariance matrix of the errors is correctly specified.\n"
          ]
        }
      ]
    },
    {
      "cell_type": "markdown",
      "source": [
        "### **Q1.4**"
      ],
      "metadata": {
        "id": "nbiR-Of7PWcn"
      }
    },
    {
      "cell_type": "code",
      "source": [
        "reg = sm.formula.ols(formula='G3 ~ C(Medu)', data=students_grades).fit()\n",
        "print(reg.summary())"
      ],
      "metadata": {
        "colab": {
          "base_uri": "https://localhost:8080/"
        },
        "id": "g-C-40JYPUtg",
        "outputId": "9ee69de4-7665-46c6-f1cf-982e62b9695d"
      },
      "execution_count": 10,
      "outputs": [
        {
          "output_type": "stream",
          "name": "stdout",
          "text": [
            "                            OLS Regression Results                            \n",
            "==============================================================================\n",
            "Dep. Variable:                     G3   R-squared:                       0.059\n",
            "Model:                            OLS   Adj. R-squared:                  0.049\n",
            "Method:                 Least Squares   F-statistic:                     6.088\n",
            "Date:                Wed, 19 Mar 2025   Prob (F-statistic):           9.24e-05\n",
            "Time:                        21:47:03   Log-Likelihood:                -1149.2\n",
            "No. Observations:                 395   AIC:                             2308.\n",
            "Df Residuals:                     390   BIC:                             2328.\n",
            "Df Model:                           4                                         \n",
            "Covariance Type:            nonrobust                                         \n",
            "================================================================================\n",
            "                   coef    std err          t      P>|t|      [0.025      0.975]\n",
            "--------------------------------------------------------------------------------\n",
            "Intercept       13.0000      2.579      5.040      0.000       7.929      18.071\n",
            "C(Medu)[T.1]    -4.3220      2.644     -1.635      0.103      -9.520       0.876\n",
            "C(Medu)[T.2]    -3.2718      2.617     -1.250      0.212      -8.416       1.873\n",
            "C(Medu)[T.3]    -2.6970      2.618     -1.030      0.304      -7.844       2.450\n",
            "C(Medu)[T.4]    -1.2366      2.609     -0.474      0.636      -6.365       3.892\n",
            "==============================================================================\n",
            "Omnibus:                       34.372   Durbin-Watson:                   1.957\n",
            "Prob(Omnibus):                  0.000   Jarque-Bera (JB):               40.812\n",
            "Skew:                          -0.765   Prob(JB):                     1.37e-09\n",
            "Kurtosis:                       3.374   Cond. No.                         29.0\n",
            "==============================================================================\n",
            "\n",
            "Notes:\n",
            "[1] Standard Errors assume that the covariance matrix of the errors is correctly specified.\n"
          ]
        }
      ]
    },
    {
      "cell_type": "markdown",
      "source": [
        "### **Q1 section 3**"
      ],
      "metadata": {
        "id": "ec00bEkgO1cS"
      }
    },
    {
      "cell_type": "code",
      "source": [
        "reg = sm.formula.ols(formula='G3 ~ Walc + sex * Walc', data=students_grades).fit()\n",
        "print(reg.summary())"
      ],
      "metadata": {
        "colab": {
          "base_uri": "https://localhost:8080/"
        },
        "id": "Ol4boYOFVYNO",
        "outputId": "64f0c85f-d8a8-49ad-80de-1217911007e2"
      },
      "execution_count": 11,
      "outputs": [
        {
          "output_type": "stream",
          "name": "stdout",
          "text": [
            "                            OLS Regression Results                            \n",
            "==============================================================================\n",
            "Dep. Variable:                     G3   R-squared:                       0.040\n",
            "Model:                            OLS   Adj. R-squared:                  0.033\n",
            "Method:                 Least Squares   F-statistic:                     5.496\n",
            "Date:                Wed, 19 Mar 2025   Prob (F-statistic):            0.00105\n",
            "Time:                        21:47:03   Log-Likelihood:                -1153.0\n",
            "No. Observations:                 395   AIC:                             2314.\n",
            "Df Residuals:                     391   BIC:                             2330.\n",
            "Df Model:                           3                                         \n",
            "Covariance Type:            nonrobust                                         \n",
            "=================================================================================\n",
            "                    coef    std err          t      P>|t|      [0.025      0.975]\n",
            "---------------------------------------------------------------------------------\n",
            "Intercept         9.1798      0.659     13.926      0.000       7.884      10.476\n",
            "sex[T.M]          3.7252      0.963      3.867      0.000       1.831       5.619\n",
            "Walc              0.4020      0.297      1.355      0.176      -0.181       0.985\n",
            "sex[T.M]:Walc    -1.1494      0.377     -3.047      0.002      -1.891      -0.408\n",
            "==============================================================================\n",
            "Omnibus:                       38.835   Durbin-Watson:                   2.061\n",
            "Prob(Omnibus):                  0.000   Jarque-Bera (JB):               47.492\n",
            "Skew:                          -0.803   Prob(JB):                     4.87e-11\n",
            "Kurtosis:                       3.556   Cond. No.                         17.0\n",
            "==============================================================================\n",
            "\n",
            "Notes:\n",
            "[1] Standard Errors assume that the covariance matrix of the errors is correctly specified.\n"
          ]
        }
      ]
    },
    {
      "cell_type": "markdown",
      "source": [
        "## **Q2**"
      ],
      "metadata": {
        "id": "Hb92UQ-7XbMR"
      }
    },
    {
      "cell_type": "code",
      "source": [
        "from sklearn.metrics import mean_absolute_error , mean_squared_error\n",
        "from math import sqrt\n",
        "\n",
        "students_grades['Improvement'] = (students_grades['G2'] > students_grades['G1']).astype(int)\n",
        "print(students_grades.head())"
      ],
      "metadata": {
        "colab": {
          "base_uri": "https://localhost:8080/"
        },
        "id": "nbrMn9wbXznW",
        "outputId": "4aba4be7-f57c-4420-d5a2-4c0e98142943"
      },
      "execution_count": 12,
      "outputs": [
        {
          "output_type": "stream",
          "name": "stdout",
          "text": [
            "  school sex  age address famsize Pstatus  Medu  Fedu     Mjob      Fjob  ...  \\\n",
            "0     GP   F   18       U     GT3       A     4     4  at_home   teacher  ...   \n",
            "1     GP   F   17       U     GT3       T     1     1  at_home     other  ...   \n",
            "2     GP   F   15       U     LE3       T     1     1  at_home     other  ...   \n",
            "3     GP   F   15       U     GT3       T     4     2   health  services  ...   \n",
            "4     GP   F   16       U     GT3       T     3     3    other     other  ...   \n",
            "\n",
            "  freetime goout  Dalc  Walc  health absences  G1  G2  G3 Improvement  \n",
            "0        3     4     1     1       3        6   5   6   6           1  \n",
            "1        3     3     1     1       3        4   5   5   6           0  \n",
            "2        3     2     2     3       3       10   7   8  10           1  \n",
            "3        2     2     1     1       5        2  15  14  15           0  \n",
            "4        3     2     1     2       5        4   6  10  10           1  \n",
            "\n",
            "[5 rows x 34 columns]\n"
          ]
        }
      ]
    },
    {
      "cell_type": "code",
      "source": [
        "selected_cols = ['schoolsup', 'famsup', 'paid', 'activities', 'nursery', 'higher', 'internet','romantic']\n",
        "X_data = pd.get_dummies(students_grades[selected_cols],  columns=['schoolsup', 'famsup', 'paid', 'activities', 'nursery', 'higher', 'internet','romantic'], drop_first=True)\n",
        "X_data = X_data.astype(float)\n",
        "y_data = students_grades['Improvement']\n",
        "\n",
        "X_data = sm.add_constant(X_data)\n",
        "log_reg = sm.Logit(y_data, X_data).fit()\n",
        "print(log_reg.summary())"
      ],
      "metadata": {
        "colab": {
          "base_uri": "https://localhost:8080/"
        },
        "id": "lp9y8uO9YNKh",
        "outputId": "87703add-e1ce-47ae-cffa-9f69920769d1"
      },
      "execution_count": 13,
      "outputs": [
        {
          "output_type": "stream",
          "name": "stdout",
          "text": [
            "Optimization terminated successfully.\n",
            "         Current function value: 0.614168\n",
            "         Iterations 5\n",
            "                           Logit Regression Results                           \n",
            "==============================================================================\n",
            "Dep. Variable:            Improvement   No. Observations:                  395\n",
            "Model:                          Logit   Df Residuals:                      386\n",
            "Method:                           MLE   Df Model:                            8\n",
            "Date:                Wed, 19 Mar 2025   Pseudo R-squ.:                 0.02495\n",
            "Time:                        21:47:04   Log-Likelihood:                -242.60\n",
            "converged:                       True   LL-Null:                       -248.80\n",
            "Covariance Type:            nonrobust   LLR p-value:                    0.1336\n",
            "==================================================================================\n",
            "                     coef    std err          z      P>|z|      [0.025      0.975]\n",
            "----------------------------------------------------------------------------------\n",
            "const             -1.2328      0.626     -1.969      0.049      -2.460      -0.006\n",
            "schoolsup_yes      0.5856      0.312      1.875      0.061      -0.026       1.198\n",
            "famsup_yes         0.0305      0.238      0.128      0.898      -0.437       0.498\n",
            "paid_yes           0.2516      0.235      1.072      0.284      -0.209       0.712\n",
            "activities_yes    -0.0304      0.220     -0.138      0.890      -0.462       0.401\n",
            "nursery_yes        0.0430      0.275      0.157      0.876      -0.495       0.581\n",
            "higher_yes         0.0876      0.550      0.159      0.874      -0.991       1.166\n",
            "internet_yes       0.4042      0.314      1.288      0.198      -0.211       1.019\n",
            "romantic_yes      -0.5265      0.243     -2.163      0.031      -1.004      -0.049\n",
            "==================================================================================\n"
          ]
        }
      ]
    },
    {
      "cell_type": "code",
      "source": [
        "train_file_path = '/content/drive/MyDrive/HW2/students_grades_train.csv'\n",
        "test_file_path = '/content/drive/MyDrive/HW2/students_grades_test.csv'\n",
        "students_grades_train = pd.read_csv(train_file_path)\n",
        "students_grades_test = pd.read_csv(test_file_path)\n",
        "students_grades_train['Improvement'] = (students_grades_train['G2'] > students_grades_train['G1']).astype(int)\n",
        "print(students_grades_train.head())\n",
        "print(students_grades_test.head())"
      ],
      "metadata": {
        "colab": {
          "base_uri": "https://localhost:8080/"
        },
        "id": "WDs9X9HNYp42",
        "outputId": "19e466fb-b81a-4896-aefd-e89ca44f4122"
      },
      "execution_count": 14,
      "outputs": [
        {
          "output_type": "stream",
          "name": "stdout",
          "text": [
            "  school sex  age address famsize Pstatus  Medu  Fedu     Mjob      Fjob  ...  \\\n",
            "0     GP   F   18       U     GT3       A     4     4  at_home   teacher  ...   \n",
            "1     GP   F   17       U     GT3       T     1     1  at_home     other  ...   \n",
            "2     GP   F   15       U     LE3       T     1     1  at_home     other  ...   \n",
            "3     GP   F   15       U     GT3       T     4     2   health  services  ...   \n",
            "4     GP   F   16       U     GT3       T     3     3    other     other  ...   \n",
            "\n",
            "  freetime goout  Dalc  Walc  health absences  G1  G2  G3 Improvement  \n",
            "0        3     4     1     1       3        6   5   6   6           1  \n",
            "1        3     3     1     1       3        4   5   5   6           0  \n",
            "2        3     2     2     3       3       10   7   8  10           1  \n",
            "3        2     2     1     1       5        2  15  14  15           0  \n",
            "4        3     2     1     2       5        4   6  10  10           1  \n",
            "\n",
            "[5 rows x 34 columns]\n",
            "  school sex  age address famsize Pstatus  Medu  Fedu     Mjob     Fjob  ...  \\\n",
            "0     GP   F   18       U     GT3       T     4     3    other    other  ...   \n",
            "1     GP   M   18       U     LE3       T     4     4  teacher  teacher  ...   \n",
            "2     GP   F   18       U     LE3       A     4     4   health    other  ...   \n",
            "3     GP   M   17       U     LE3       T     4     4    other  teacher  ...   \n",
            "4     GP   F   17       U     GT3       T     4     2    other    other  ...   \n",
            "\n",
            "  famrel freetime  goout  Dalc  Walc health absences  G1  G2  G3  \n",
            "0      4        3      3     1     1      3        0  14  13  14  \n",
            "1      1        4      2     2     2      1        5  16  15  16  \n",
            "2      4        2      4     1     1      4       14  12  10  11  \n",
            "3      4        1      1     2     2      5        0  11  11  10  \n",
            "4      4        3      3     1     1      3        0  15  12  14  \n",
            "\n",
            "[5 rows x 33 columns]\n"
          ]
        }
      ]
    },
    {
      "cell_type": "code",
      "source": [
        "train_selected_cols = ['age', 'studytime', 'failures', 'schoolsup', 'activities', 'absences']\n",
        "train_X_data = pd.get_dummies(students_grades_train[train_selected_cols],  columns=['schoolsup', 'activities'], drop_first=True)\n",
        "train_X_data = train_X_data.astype(float)\n",
        "train_y_data = students_grades_train['Improvement']\n",
        "\n",
        "train_X_data = sm.add_constant(train_X_data)\n",
        "train_log_reg = sm.Logit(train_y_data, train_X_data).fit()\n",
        "print(train_log_reg.summary())"
      ],
      "metadata": {
        "colab": {
          "base_uri": "https://localhost:8080/"
        },
        "id": "VSIU-8SgZp5F",
        "outputId": "1a7a2ac8-b0b3-4b34-c330-9c79138ec27c"
      },
      "execution_count": 15,
      "outputs": [
        {
          "output_type": "stream",
          "name": "stdout",
          "text": [
            "Optimization terminated successfully.\n",
            "         Current function value: 0.633129\n",
            "         Iterations 5\n",
            "                           Logit Regression Results                           \n",
            "==============================================================================\n",
            "Dep. Variable:            Improvement   No. Observations:                  298\n",
            "Model:                          Logit   Df Residuals:                      291\n",
            "Method:                           MLE   Df Model:                            6\n",
            "Date:                Wed, 19 Mar 2025   Pseudo R-squ.:                 0.03851\n",
            "Time:                        21:47:05   Log-Likelihood:                -188.67\n",
            "converged:                       True   LL-Null:                       -196.23\n",
            "Covariance Type:            nonrobust   LLR p-value:                   0.01938\n",
            "==================================================================================\n",
            "                     coef    std err          z      P>|z|      [0.025      0.975]\n",
            "----------------------------------------------------------------------------------\n",
            "const              5.6091      2.071      2.708      0.007       1.549       9.669\n",
            "age               -0.3640      0.127     -2.871      0.004      -0.612      -0.115\n",
            "studytime         -0.0504      0.150     -0.336      0.737      -0.344       0.244\n",
            "failures           0.0646      0.167      0.386      0.699      -0.263       0.392\n",
            "absences          -0.0203      0.019     -1.093      0.274      -0.057       0.016\n",
            "schoolsup_yes      0.2809      0.327      0.859      0.391      -0.360       0.922\n",
            "activities_yes    -0.1886      0.248     -0.759      0.448      -0.676       0.298\n",
            "==================================================================================\n"
          ]
        }
      ]
    },
    {
      "cell_type": "markdown",
      "source": [
        "### **Q2.4**"
      ],
      "metadata": {
        "id": "8FSvECk3a8Aj"
      }
    },
    {
      "cell_type": "code",
      "source": [
        "test_X_data = pd.get_dummies(students_grades_test[train_selected_cols],  columns=['schoolsup', 'activities'], drop_first=True)\n",
        "test_X_data = sm.add_constant(test_X_data)\n",
        "test_X_data = test_X_data.astype(float)\n",
        "students_grades_test['Improvement'] = (students_grades_test['G2'] > students_grades_test['G1']).astype(int)\n",
        "test_y_data = students_grades_test['Improvement']\n",
        "predictions_test = train_log_reg.predict(test_X_data)\n",
        "print(predictions_test)\n",
        "print(test_X_data)"
      ],
      "metadata": {
        "colab": {
          "base_uri": "https://localhost:8080/"
        },
        "id": "KuTPqL4Ca4an",
        "outputId": "66c6d0bf-bd9a-4122-fdba-feb2a4b34bcd"
      },
      "execution_count": 16,
      "outputs": [
        {
          "output_type": "stream",
          "name": "stdout",
          "text": [
            "0     0.241636\n",
            "1     0.250855\n",
            "2     0.209627\n",
            "3     0.347831\n",
            "4     0.325331\n",
            "        ...   \n",
            "92    0.134129\n",
            "93    0.334145\n",
            "94    0.124395\n",
            "95    0.270410\n",
            "96    0.188771\n",
            "Length: 97, dtype: float64\n",
            "    const   age  studytime  failures  absences  schoolsup_yes  activities_yes\n",
            "0     1.0  18.0        4.0       0.0       0.0            0.0             0.0\n",
            "1     1.0  18.0        1.0       0.0       5.0            0.0             0.0\n",
            "2     1.0  18.0        2.0       0.0      14.0            0.0             0.0\n",
            "3     1.0  17.0        1.0       0.0       0.0            0.0             0.0\n",
            "4     1.0  17.0        3.0       0.0       0.0            0.0             0.0\n",
            "..    ...   ...        ...       ...       ...            ...             ...\n",
            "92    1.0  20.0        2.0       2.0      11.0            0.0             0.0\n",
            "93    1.0  17.0        1.0       0.0       3.0            0.0             0.0\n",
            "94    1.0  21.0        1.0       3.0       3.0            0.0             0.0\n",
            "95    1.0  18.0        1.0       0.0       0.0            0.0             0.0\n",
            "96    1.0  19.0        1.0       0.0       5.0            0.0             0.0\n",
            "\n",
            "[97 rows x 7 columns]\n"
          ]
        }
      ]
    },
    {
      "cell_type": "code",
      "source": [
        "boolean_predictions = []\n",
        "for pred in predictions_test:\n",
        "  if pred >= 0.5:\n",
        "    boolean_predictions.append(1)\n",
        "  else:\n",
        "      boolean_predictions.append(0)\n",
        "print(boolean_predictions, predictions_test)"
      ],
      "metadata": {
        "colab": {
          "base_uri": "https://localhost:8080/"
        },
        "id": "eZZ6IEfKbwZ_",
        "outputId": "fb02b7a0-bed1-42cf-db2a-453add66e6c6"
      },
      "execution_count": 17,
      "outputs": [
        {
          "output_type": "stream",
          "name": "stdout",
          "text": [
            "[0, 0, 0, 0, 0, 0, 0, 0, 0, 0, 0, 0, 0, 0, 0, 0, 0, 0, 0, 0, 0, 0, 0, 0, 0, 0, 0, 0, 0, 0, 0, 0, 0, 0, 0, 0, 0, 0, 0, 0, 0, 0, 0, 0, 0, 0, 0, 0, 0, 0, 0, 0, 0, 0, 0, 0, 0, 0, 0, 0, 0, 0, 0, 0, 0, 0, 0, 0, 0, 0, 0, 0, 0, 0, 0, 0, 0, 0, 0, 0, 0, 0, 0, 0, 0, 0, 0, 0, 0, 0, 0, 0, 0, 0, 0, 0, 0] 0     0.241636\n",
            "1     0.250855\n",
            "2     0.209627\n",
            "3     0.347831\n",
            "4     0.325331\n",
            "        ...   \n",
            "92    0.134129\n",
            "93    0.334145\n",
            "94    0.124395\n",
            "95    0.270410\n",
            "96    0.188771\n",
            "Length: 97, dtype: float64\n"
          ]
        }
      ]
    },
    {
      "cell_type": "code",
      "source": [
        "MAE = mean_absolute_error(test_y_data, predictions_test)\n",
        "MSE = mean_squared_error(test_y_data, predictions_test)\n",
        "RMSE = sqrt(MSE)\n",
        "print(\"MAE: {}, MSE: {}, RMSE: {}\".format(MAE, MSE, RMSE))"
      ],
      "metadata": {
        "colab": {
          "base_uri": "https://localhost:8080/"
        },
        "id": "2tOEp1lhcJtx",
        "outputId": "61057a27-67e6-4c2f-ec70-aba715922a5e"
      },
      "execution_count": 18,
      "outputs": [
        {
          "output_type": "stream",
          "name": "stdout",
          "text": [
            "MAE: 0.33198011075051315, MSE: 0.1540594773671942, RMSE: 0.39250411127425683\n"
          ]
        }
      ]
    },
    {
      "cell_type": "code",
      "source": [
        "from sklearn.metrics import confusion_matrix\n",
        "\n",
        "confuse_mat = confusion_matrix(test_y_data, boolean_predictions)\n",
        "print(confuse_mat)"
      ],
      "metadata": {
        "colab": {
          "base_uri": "https://localhost:8080/"
        },
        "id": "T91KPdLZcof4",
        "outputId": "c23589ea-764a-4b49-9a29-86a263b9c05d"
      },
      "execution_count": 19,
      "outputs": [
        {
          "output_type": "stream",
          "name": "stdout",
          "text": [
            "[[79  0]\n",
            " [18  0]]\n"
          ]
        }
      ]
    },
    {
      "cell_type": "code",
      "source": [
        "from sklearn.metrics import accuracy_score, recall_score, precision_score\n",
        "\n",
        "sns.heatmap(pd.DataFrame(confuse_mat), annot=True, cmap=\"YlGnBu\")\n",
        "plt.tight_layout()\n",
        "plt.title('Confusion Matrix')\n",
        "plt.ylabel('Actual Label')\n",
        "plt.xlabel('Predicted Label')\n",
        "plt.show()\n",
        "print(\"Accuracy:\", accuracy_score(test_y_data, boolean_predictions))\n",
        "print(\"Recall:\", recall_score(test_y_data, boolean_predictions))\n",
        "print(\"Precision:\", precision_score(test_y_data, boolean_predictions))"
      ],
      "metadata": {
        "colab": {
          "base_uri": "https://localhost:8080/",
          "height": 635
        },
        "id": "cHXZ1HCDdGpP",
        "outputId": "24d94a00-5077-44d7-c830-0281b518955c"
      },
      "execution_count": 20,
      "outputs": [
        {
          "output_type": "display_data",
          "data": {
            "text/plain": [
              "<Figure size 640x480 with 2 Axes>"
            ],
            "image/png": "[encoded data removed]"
          },
          "metadata": {}
        },
        {
          "output_type": "stream",
          "name": "stdout",
          "text": [
            "Accuracy: 0.8144329896907216\n",
            "Recall: 0.0\n",
            "Precision: 0.0\n"
          ]
        },
        {
          "output_type": "stream",
          "name": "stderr",
          "text": [
            "/usr/local/lib/python3.11/dist-packages/sklearn/metrics/_classification.py:1565: UndefinedMetricWarning: Precision is ill-defined and being set to 0.0 due to no predicted samples. Use `zero_division` parameter to control this behavior.\n",
            "  _warn_prf(average, modifier, f\"{metric.capitalize()} is\", len(result))\n"
          ]
        }
      ]
    }
  ]
}